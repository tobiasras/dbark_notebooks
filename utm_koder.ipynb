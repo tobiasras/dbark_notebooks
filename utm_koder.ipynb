{
  "nbformat": 4,
  "nbformat_minor": 0,
  "metadata": {
    "colab": {
      "provenance": [],
      "authorship_tag": "ABX9TyOU3FKcAmTkNnyZd15TAEuW",
      "include_colab_link": true
    },
    "kernelspec": {
      "name": "python3",
      "display_name": "Python 3"
    },
    "language_info": {
      "name": "python"
    }
  },
  "cells": [
    {
      "cell_type": "markdown",
      "metadata": {
        "id": "view-in-github",
        "colab_type": "text"
      },
      "source": [
        "<a href=\"https://colab.research.google.com/github/tobiasras/dbark_notebooks/blob/main/utm_koder.ipynb\" target=\"_parent\"><img src=\"https://colab.research.google.com/assets/colab-badge.svg\" alt=\"Open In Colab\"/></a>"
      ]
    },
    {
      "cell_type": "markdown",
      "source": [
        "# **Opret UTM koder**\n",
        "Et lille værktøj til at oprette utm koder\n",
        "\n",
        "https://en.wikipedia.org/wiki/UTM_parameters\n"
      ],
      "metadata": {
        "id": "p-hyxgkoi9Xi"
      }
    },
    {
      "cell_type": "markdown",
      "source": [
        "# **UTM Koder til nyhedsbrev**"
      ],
      "metadata": {
        "id": "eIaBqcMnYwKW"
      }
    },
    {
      "cell_type": "code",
      "source": [
        "#@title {display-mode: \"form\"}\n",
        "#@markdown ## **Indtast info** {display-mode: \"form\"}\n",
        "#@markdown Indtast år, uge, projekt type\n",
        "\n",
        "# templates\n",
        "template = \"?utm_source=nb_DBARK&utm_medium=Email&utm_campaign=NB_DBARK_\"\n",
        "\n",
        "\n",
        "year = 2023  #@param {type: \"integer\"}\n",
        "week_number = 33  #@param {type: \"integer\"}\n",
        "type_of_content = 'Projekt'  #@param [\"Indhold\", \"Ra\", \"Projekt\", \"Podcast\"] {allow-input: true}\n",
        "\n",
        "\n",
        "# ?utm_source=NB_DBARK&utm_medium=Email&utm_campaign=NB_DBARK_2023_Uge35_PROJEKT\n",
        "\n",
        "utm_snippet = template + str(year) + \"_uge\" + str(week_number) + \"_\" + type_of_content\n",
        "\n",
        "#@markdown ## **Indtast links**\n",
        "\n",
        "link_1 = \"https://www.danskeboligarkitekter.dk/projekt/kronen-paa-vaerket-30er-bungalow-med-dejligt-koekken-alrum\"  #@param {type: \"string\"}\n",
        "link_2 = \"https://www.danskeboligarkitekter.dk/projekt/fanfam-sommerhus-et-traehus-i-klitterne-paa-vestkysten\"  #@param {type: \"string\"}\n",
        "link_3 = \"https://www.danskeboligarkitekter.dk/projekt/skur-ved-sommerhus-ved-vesterhavet-med-udsigt-fra-karnap\"  #@param {type: \"string\"}\n",
        "link_4 = \"https://www.danskeboligarkitekter.dk/projekt/fritidshus-i-trae-beliggende-i-idyllisk-lille-landsby\"  #@param {type: \"string\"}\n",
        "link_5 = \"https://www.danskeboligarkitekter.dk/projekt/villa-virklund-tilbygning-gav-mere-udsigt-og-adgang-til-naturen\"  #@param {type: \"string\"}\n",
        "link_6 = \"https://www.danskeboligarkitekter.dk/projekt/refugium-paa-fyn-nyt-sommerhus-i-foerste-raekke\"  #@param {type: \"string\"}\n",
        "\n",
        "\n",
        "#@markdown utm koder:\n",
        "\n",
        "output = \"\"\n",
        "\n",
        "if (link_1 != \"\"):\n",
        "  print(link_1 + utm_snippet)\n",
        "  output += \"\\n\" + link_1 + utm_snippet\n",
        "\n",
        "if (link_2 != \"\"):\n",
        "  output += \"\\n\" + link_2 + utm_snippet\n",
        "  print(link_2 + utm_snippet)\n",
        "\n",
        "if (link_3 != \"\"):\n",
        "  output += \"\\n\" + link_3 + utm_snippet\n",
        "  print(link_3 + utm_snippet)\n",
        "\n",
        "if (link_4 != \"\"):\n",
        "  output += \"\\n\" + link_4 + utm_snippet\n",
        "  print(link_4 + utm_snippet)\n",
        "\n",
        "if (link_5 != \"\"):\n",
        " output += \"\\n\" + link_5 + utm_snippet\n",
        " print(link_5 + utm_snippet)\n",
        "\n",
        "if (link_6 != \"\"):\n",
        "  print(link_6 + utm_snippet  + \"\\n\")\n",
        "  output += \"\\n\" + link_6 + utm_snippet\n",
        "\n",
        "output\n"
      ],
      "metadata": {
        "id": "fYA_hwLLln4-",
        "colab": {
          "base_uri": "https://localhost:8080/",
          "height": 226
        },
        "outputId": "6fd45fcd-b3c6-4da8-834d-949287532e1d"
      },
      "execution_count": null,
      "outputs": [
        {
          "output_type": "stream",
          "name": "stdout",
          "text": [
            "https://www.danskeboligarkitekter.dk/projekt/kronen-paa-vaerket-30er-bungalow-med-dejligt-koekken-alrum?utm_source=nb_DBARK&utm_medium=Email&utm_campaign=NB_DBARK_2023_uge33_Projekt\n",
            "https://www.danskeboligarkitekter.dk/projekt/fanfam-sommerhus-et-traehus-i-klitterne-paa-vestkysten?utm_source=nb_DBARK&utm_medium=Email&utm_campaign=NB_DBARK_2023_uge33_Projekt\n",
            "https://www.danskeboligarkitekter.dk/projekt/skur-ved-sommerhus-ved-vesterhavet-med-udsigt-fra-karnap?utm_source=nb_DBARK&utm_medium=Email&utm_campaign=NB_DBARK_2023_uge33_Projekt\n",
            "https://www.danskeboligarkitekter.dk/projekt/fritidshus-i-trae-beliggende-i-idyllisk-lille-landsby?utm_source=nb_DBARK&utm_medium=Email&utm_campaign=NB_DBARK_2023_uge33_Projekt\n",
            "https://www.danskeboligarkitekter.dk/projekt/villa-virklund-tilbygning-gav-mere-udsigt-og-adgang-til-naturen?utm_source=nb_DBARK&utm_medium=Email&utm_campaign=NB_DBARK_2023_uge33_Projekt\n",
            "https://www.danskeboligarkitekter.dk/projekt/refugium-paa-fyn-nyt-sommerhus-i-foerste-raekke?utm_source=nb_DBARK&utm_medium=Email&utm_campaign=NB_DBARK_2023_uge33_Projekt\n",
            "\n"
          ]
        },
        {
          "output_type": "execute_result",
          "data": {
            "text/plain": [
              "'\\nhttps://www.danskeboligarkitekter.dk/projekt/kronen-paa-vaerket-30er-bungalow-med-dejligt-koekken-alrum?utm_source=nb_DBARK&utm_medium=Email&utm_campaign=NB_DBARK_2023_uge33_Projekt\\nhttps://www.danskeboligarkitekter.dk/projekt/fanfam-sommerhus-et-traehus-i-klitterne-paa-vestkysten?utm_source=nb_DBARK&utm_medium=Email&utm_campaign=NB_DBARK_2023_uge33_Projekt\\nhttps://www.danskeboligarkitekter.dk/projekt/skur-ved-sommerhus-ved-vesterhavet-med-udsigt-fra-karnap?utm_source=nb_DBARK&utm_medium=Email&utm_campaign=NB_DBARK_2023_uge33_Projekt\\nhttps://www.danskeboligarkitekter.dk/projekt/fritidshus-i-trae-beliggende-i-idyllisk-lille-landsby?utm_source=nb_DBARK&utm_medium=Email&utm_campaign=NB_DBARK_2023_uge33_Projekt\\nhttps://www.danskeboligarkitekter.dk/projekt/villa-virklund-tilbygning-gav-mere-udsigt-og-adgang-til-naturen?utm_source=nb_DBARK&utm_medium=Email&utm_campaign=NB_DBARK_2023_uge33_Projekt\\nhttps://www.danskeboligarkitekter.dk/projekt/refugium-paa-fyn-nyt-sommerhus-i-foerste-raekke?utm_source=nb_DBARK&utm_medium=Email&utm_campaign=NB_DBARK_2023_uge33_Projekt'"
            ],
            "application/vnd.google.colaboratory.intrinsic+json": {
              "type": "string"
            }
          },
          "metadata": {},
          "execution_count": 5
        }
      ]
    },
    {
      "cell_type": "markdown",
      "source": [
        "# **UTM koder til andre medier**"
      ],
      "metadata": {
        "id": "rMelAGXzZyOI"
      }
    },
    {
      "cell_type": "code",
      "source": [
        "#@title {display-mode: \"form\"}\n",
        "#@markdown ## **Indtast info** {display-mode: \"form\"}\n",
        "\n",
        "#@markdown Hvor kommer trafiken fra? [ bolius, berlignske, ext. ]\n",
        "source = \"email\" #@param {type: \"string\"}\n",
        "utm_source = \"utm_source=\" + source\n",
        "\n",
        "#@markdown Hvilket medie kommer trafiken fra? [ website, email, facebook, avis, ext. ]\n",
        "medium = \"bolius\" #@param {type: \"string\"}\n",
        "utm_medium = \"utm_source=\" + medium\n",
        "\n",
        "#@markdown Hvilket kampagne kommer trafiken fra [ bolius_nyhedsbrev, bolius_julekalender, ext.  ]\n",
        "campaign = \"nyhedsbrev_bolius\" #@param {type: \"string\"}\n",
        "utm_campaign = \"utm_campaign=\" + campaign\n",
        "\n",
        "#@markdown ### **Dato info**\n",
        "#@markdown hvornår bliver linket udgivet.\n",
        "\n",
        "year = 2023  #@param {type: \"integer\"}\n",
        "week_number = 12  #@param {type: \"integer\"}\n",
        "\n",
        "date = str(year) + \"_uge_\" + str(week_number)\n",
        "utm_campaign += \"_\" + date\n",
        "\n",
        "\n",
        "#@markdown ### **Link**\n",
        "link = \"https://snappa.com/blog/facebook-group-cover-photo-size/\" #@param {type: \"string\"}\n",
        "\n",
        "utm_snippit = utm_source + \"&\" + utm_medium + \"&\" + utm_campaign\n",
        "utm_code = link + \"?\" + utm_snippit\n",
        "\n",
        "#@markdown ### **Link med utm koder**\n",
        "utm_code\n",
        "\n",
        "\n",
        "\n",
        "\n",
        "\n",
        "\n"
      ],
      "metadata": {
        "id": "EIqgL7sVaLUV",
        "colab": {
          "base_uri": "https://localhost:8080/",
          "height": 35
        },
        "outputId": "8d78a5ba-c401-49c9-e36b-b4560d94d6c6"
      },
      "execution_count": null,
      "outputs": [
        {
          "output_type": "execute_result",
          "data": {
            "text/plain": [
              "'https://snappa.com/blog/facebook-group-cover-photo-size/?utm_source=email&utm_source=bolius&utm_campaign=nyhedsbrev_bolius_2023_uge_12'"
            ],
            "application/vnd.google.colaboratory.intrinsic+json": {
              "type": "string"
            }
          },
          "metadata": {},
          "execution_count": 4
        }
      ]
    }
  ]
}